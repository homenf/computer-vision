{
  "nbformat": 4,
  "nbformat_minor": 0,
  "metadata": {
    "colab": {
      "name": "assign1.ipynb",
      "provenance": [],
      "collapsed_sections": [],
      "authorship_tag": "ABX9TyMmyBYR/7vGtqeLuiom3Caz",
      "include_colab_link": true
    },
    "kernelspec": {
      "name": "python3",
      "display_name": "Python 3"
    }
  },
  "cells": [
    {
      "cell_type": "markdown",
      "metadata": {
        "id": "view-in-github",
        "colab_type": "text"
      },
      "source": [
        "<a href=\"https://colab.research.google.com/github/homenf/computer-vision/blob/master/assign1.ipynb\" target=\"_parent\"><img src=\"https://colab.research.google.com/assets/colab-badge.svg\" alt=\"Open In Colab\"/></a>"
      ]
    },
    {
      "cell_type": "code",
      "metadata": {
        "id": "Xu0sQAaSH033"
      },
      "source": [
        "from PIL import Image\n",
        "import numpy as np\n",
        "import math\n",
        "from scipy import signal\n",
        "import cv2"
      ],
      "execution_count": 2,
      "outputs": []
    },
    {
      "cell_type": "code",
      "metadata": {
        "id": "TBXzlxCtH4Nz"
      },
      "source": [
        "from IPython.display import Image"
      ],
      "execution_count": 5,
      "outputs": []
    },
    {
      "cell_type": "code",
      "metadata": {
        "id": "nUj4ADSzIPbn",
        "outputId": "302b3e32-eafc-4a83-af31-09102fbf6849",
        "colab": {
          "base_uri": "https://localhost:8080/",
          "height": 102
        }
      },
      "source": [
        "def boxfilter(n):\n",
        "  if (n+1) % 2 :\n",
        "    raise Exception(\"Sorry, no even number\")\n",
        "  return np.ones((n, n)) / n**2\n",
        "\n",
        "boxfilter(3)\n",
        "boxfilter(5)"
      ],
      "execution_count": 10,
      "outputs": [
        {
          "output_type": "execute_result",
          "data": {
            "text/plain": [
              "array([[0.04, 0.04, 0.04, 0.04, 0.04],\n",
              "       [0.04, 0.04, 0.04, 0.04, 0.04],\n",
              "       [0.04, 0.04, 0.04, 0.04, 0.04],\n",
              "       [0.04, 0.04, 0.04, 0.04, 0.04],\n",
              "       [0.04, 0.04, 0.04, 0.04, 0.04]])"
            ]
          },
          "metadata": {
            "tags": []
          },
          "execution_count": 10
        }
      ]
    },
    {
      "cell_type": "code",
      "metadata": {
        "id": "z54ZCm_cJf3_",
        "outputId": "bd0b4f9f-f921-4208-a00d-dfd6ee193fe7",
        "colab": {
          "base_uri": "https://localhost:8080/",
          "height": 68
        }
      },
      "source": [
        "def gauss1d(sigma):\n",
        "  length = np.floor(np.ceil(6 * sigma)/2)*2 + 1 # odd number\n",
        "  dist = np.arange(length) - np.floor(length/2) # dist in pixels\n",
        "  weight = np.exp(-(dist / sigma) **2 / 2)\n",
        "  return weight/np.sum(weight)\n",
        "\n",
        "gauss1d(2)"
      ],
      "execution_count": 4,
      "outputs": [
        {
          "output_type": "execute_result",
          "data": {
            "text/plain": [
              "array([0.0022182 , 0.00877313, 0.02702316, 0.06482519, 0.12110939,\n",
              "       0.17621312, 0.19967563, 0.17621312, 0.12110939, 0.06482519,\n",
              "       0.02702316, 0.00877313, 0.0022182 ])"
            ]
          },
          "metadata": {
            "tags": []
          },
          "execution_count": 4
        }
      ]
    },
    {
      "cell_type": "code",
      "metadata": {
        "id": "cGt3XpT3M7Kn",
        "outputId": "b6cf9ae0-8b05-45b6-ed36-77df2f0fca0f",
        "colab": {
          "base_uri": "https://localhost:8080/",
          "height": 255
        }
      },
      "source": [
        "def gauss2d(sigma):\n",
        "  oneD = gauss1d(sigma)\n",
        "  filter = signal.convolve2d([oneD], np.transpose([oneD]))\n",
        "  return filter / np.sum(filter)\n",
        "gauss2d(1)"
      ],
      "execution_count": 5,
      "outputs": [
        {
          "output_type": "execute_result",
          "data": {
            "text/plain": [
              "array([[1.96519161e-05, 2.39409349e-04, 1.07295826e-03, 1.76900911e-03,\n",
              "        1.07295826e-03, 2.39409349e-04, 1.96519161e-05],\n",
              "       [2.39409349e-04, 2.91660295e-03, 1.30713076e-02, 2.15509428e-02,\n",
              "        1.30713076e-02, 2.91660295e-03, 2.39409349e-04],\n",
              "       [1.07295826e-03, 1.30713076e-02, 5.85815363e-02, 9.65846250e-02,\n",
              "        5.85815363e-02, 1.30713076e-02, 1.07295826e-03],\n",
              "       [1.76900911e-03, 2.15509428e-02, 9.65846250e-02, 1.59241126e-01,\n",
              "        9.65846250e-02, 2.15509428e-02, 1.76900911e-03],\n",
              "       [1.07295826e-03, 1.30713076e-02, 5.85815363e-02, 9.65846250e-02,\n",
              "        5.85815363e-02, 1.30713076e-02, 1.07295826e-03],\n",
              "       [2.39409349e-04, 2.91660295e-03, 1.30713076e-02, 2.15509428e-02,\n",
              "        1.30713076e-02, 2.91660295e-03, 2.39409349e-04],\n",
              "       [1.96519161e-05, 2.39409349e-04, 1.07295826e-03, 1.76900911e-03,\n",
              "        1.07295826e-03, 2.39409349e-04, 1.96519161e-05]])"
            ]
          },
          "metadata": {
            "tags": []
          },
          "execution_count": 5
        }
      ]
    },
    {
      "cell_type": "code",
      "metadata": {
        "id": "xVI9VHfiLl5D"
      },
      "source": [
        "# array ~ Dim[m*n*1]\n",
        "# filter ~ Dim[w * h]\n",
        "def convolve2d_manual(array, filter):\n",
        "  # make inner most element an array for later broadcast\n",
        "  newMat = [[0 for i in range(len(array[0]))] for j in range(len(array))]\n",
        "  padLength = len(filter) // 2\n",
        "  paddedArray = np.pad(array, ((padLength, padLength), (padLength, padLength)), 'constant', constant_values=0)\n",
        "  for j in range(len(array)): # row\n",
        "    for i in range(len(array[0])): # column\n",
        "      neighbours = paddedArray[j : j+ 2*padLength+1, i: i+ 2* padLength+1]\n",
        "      newMat[j][i] = np.sum(neighbours * filter, axis=(0,1))\n",
        "  print(np.shape(newMat))\n",
        "  return newMat\n"
      ],
      "execution_count": 16,
      "outputs": []
    },
    {
      "cell_type": "code",
      "metadata": {
        "id": "NT_-sNqmwT4W"
      },
      "source": [
        "def gaussconvolve2d_manual(array, sigma):\n",
        "  return convolve2d_manual(array, gauss2d(sigma))\n",
        "\n",
        "def gaussconvolve2d_scipy(array,sigma):\n",
        "  return signal.correlate2d(array, gauss2d(sigma), 'same')\n",
        "\n",
        "def gaussconvolve2d_rgb(array, sigma):\n",
        "  return convolve2d_rgb(array, gauss2d(sigma))"
      ],
      "execution_count": 24,
      "outputs": []
    },
    {
      "cell_type": "code",
      "metadata": {
        "id": "icjyg8i2Pi4-",
        "outputId": "57d70aa4-2965-4f09-c252-56e40556db95",
        "colab": {
          "base_uri": "https://localhost:8080/",
          "height": 34
        }
      },
      "source": [
        "def convert_and_save(arr, name):\n",
        "  arr = np.clip(np.array(arr), a_min = 0, a_max = 255)\n",
        "  arr = arr.astype('uint8') \n",
        "  im = Image.fromarray(arr)\n",
        "  im.save(name + '.png','PNG')  \n",
        "\n",
        "def open_and_convert(name, toGrey=False):\n",
        "  im = Image.open(name)\n",
        "  im = im.crop((200,200,300,300))\n",
        "  if toGrey:\n",
        "    im = im.convert('L')\n",
        "  im_array = np.asarray(im)\n",
        "  return im_array.astype('float64')\n",
        "\n",
        "im_array = open_and_convert('./dog.jpg', toGrey=True)\n",
        "im_new_array = gaussconvolve2d_manual(im_array, 3)\n",
        "convert_and_save(im_new_array, 'dog_manual')\n",
        "\n",
        "im_array = open_and_convert('./dog.jpg', toGrey=True)\n",
        "im_new_array = gaussconvolve2d_scipy(im_array, 3)\n",
        "convert_and_save(im_new_array, 'dog_scipy')"
      ],
      "execution_count": 42,
      "outputs": [
        {
          "output_type": "stream",
          "text": [
            "(100, 100)\n"
          ],
          "name": "stdout"
        }
      ]
    },
    {
      "cell_type": "markdown",
      "metadata": {
        "id": "_2yZZQXX0YzK"
      },
      "source": [
        "Part 3\n"
      ]
    },
    {
      "cell_type": "code",
      "metadata": {
        "id": "Z1G0puGTwWXf"
      },
      "source": [
        "# array ~ Dim[m*n*3]\n",
        "# filter ~ Dim[w * h]\n",
        "def convolve2d_rgb(array, filter):\n",
        "  # make inner most element an array for later broadcast\n",
        "  filter = [[[e] for e in row] for row in filter] \n",
        "  newMat = [[[0, 0, 0] for i in range(len(array[0]))] for j in range(len(array))]\n",
        "  padLength = len(filter) // 2\n",
        "  paddedArray = np.pad(array, ((padLength, padLength), (padLength, padLength), (0, 0)), 'constant', constant_values=0)\n",
        "  for j in range(len(array)): # row\n",
        "    for i in range(len(array[0])): # column\n",
        "      neighbours = paddedArray[j : j+ 2*padLength+1, i: i+ 2* padLength+1]\n",
        "      newMat[j][i] = np.sum(neighbours * filter, axis=(0,1))\n",
        "  print(np.shape(newMat))\n",
        "  return newMat"
      ],
      "execution_count": 29,
      "outputs": []
    },
    {
      "cell_type": "code",
      "metadata": {
        "id": "9Hs3tAK10Ui4",
        "outputId": "f2c76c20-8c22-41be-9378-a10d27d961a6",
        "colab": {
          "base_uri": "https://localhost:8080/",
          "height": 51
        }
      },
      "source": [
        "# Low frequency filtered image\n",
        "low_array = open_and_convert('./dog.jpg', toGrey=False)\n",
        "low_new_array = gaussconvolve2d_rgb(low_array, 3)\n",
        "convert_and_save(low_new_array, 'dog_low_rgb')\n",
        "\n",
        "# High frequency filtered image\n",
        "high_array = open_and_convert('./0a_cat.bmp', toGrey=False)\n",
        "high_new_array = gaussconvolve2d_rgb(high_array, 3) - high_array\n",
        "convert_and_save(high_new_array + 128, 'cat_high_rgb') # add 128 for visualization only\n",
        "\n",
        "# High + low\n",
        "hybrid_array = low_new_array + high_new_array\n",
        "convert_and_save(hybrid_array, 'hybrid_cat_dog')"
      ],
      "execution_count": 44,
      "outputs": [
        {
          "output_type": "stream",
          "text": [
            "(100, 100, 3)\n",
            "(100, 100, 3)\n"
          ],
          "name": "stdout"
        }
      ]
    },
    {
      "cell_type": "markdown",
      "metadata": {
        "id": "Z5aMovIyEVPd"
      },
      "source": [
        "Part 4"
      ]
    },
    {
      "cell_type": "code",
      "metadata": {
        "id": "atlnH-bBDQK4"
      },
      "source": [
        "# ‘cv2.GaussianBlur’, ‘cv2.bilateralFilter’, and ‘cv2.medianBlur’. \n",
        "og_array = open_and_convert('./dog.jpg', toGrey=False)\n",
        "cv2.GaussianBlur(og_array,(5,5),1)\n",
        "convert_and_save(og_array, 'cv_rgb')\n"
      ],
      "execution_count": 51,
      "outputs": []
    }
  ]
}